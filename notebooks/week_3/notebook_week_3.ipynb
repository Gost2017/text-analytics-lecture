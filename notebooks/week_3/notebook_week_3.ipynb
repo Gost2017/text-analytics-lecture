{
 "cells": [
  {
   "cell_type": "markdown",
   "metadata": {},
   "source": [
    "# Text Analytics Lecture - Week 3"
   ]
  },
  {
   "cell_type": "markdown",
   "metadata": {},
   "source": [
    "Hello and welcome to our first hands-on-python lecture in our course about text analytics. Today we will be covering the fundamentals of Python for processing text. *Enjoy!*"
   ]
  },
  {
   "cell_type": "markdown",
   "metadata": {},
   "source": [
    "## Downloading Data"
   ]
  },
  {
   "cell_type": "markdown",
   "metadata": {},
   "source": [
    "First, we need to load our Trump tweet data into our session. The file comes in .json format, so we use the `json` package. We downloaded the data from [Trump Twitter Archive](http://www.trumptwitterarchive.com/). It is a fun data source and provides some great statistics that we will try to reproduce in this class."
   ]
  },
  {
   "cell_type": "code",
   "execution_count": 2,
   "metadata": {},
   "outputs": [],
   "source": [
    "import json"
   ]
  },
  {
   "cell_type": "markdown",
   "metadata": {},
   "source": [
    "We open the file connection and load the data into the `trump_dict_list` variable."
   ]
  },
  {
   "cell_type": "code",
   "execution_count": 3,
   "metadata": {},
   "outputs": [],
   "source": [
    "with open('data/trump_tweets_small.json', encoding=\"utf8\") as f:\n",
    "    trump_dict_list = json.loads(f.read())"
   ]
  },
  {
   "cell_type": "markdown",
   "metadata": {},
   "source": [
    "## Data Structures"
   ]
  },
  {
   "cell_type": "markdown",
   "metadata": {},
   "source": [
    "Next, we investigate the structure of our data. A great function for this purpose is `type()`:"
   ]
  },
  {
   "cell_type": "code",
   "execution_count": 4,
   "metadata": {},
   "outputs": [
    {
     "data": {
      "text/plain": [
       "list"
      ]
     },
     "execution_count": 4,
     "metadata": {},
     "output_type": "execute_result"
    }
   ],
   "source": [
    "type(trump_dict_list)"
   ]
  },
  {
   "cell_type": "markdown",
   "metadata": {},
   "source": [
    "Turns out that our object is a `list`. From the textbook, we know that\n",
    ">*Lists are collections of arbitrary heterogeneous [...] objects. Lists also follow a sequence based on the order in which the objects are present in the list, and each object has its own index with which it can be accessed. * \n",
    "\n",
    "To sum it up: a `list` is an **indexed** and **heterogeneous** data type."
   ]
  },
  {
   "cell_type": "markdown",
   "metadata": {},
   "source": [
    "But how long is our list? We can find our the length of `trump_tweets`, using `len()`:"
   ]
  },
  {
   "cell_type": "code",
   "execution_count": 6,
   "metadata": {},
   "outputs": [
    {
     "data": {
      "text/plain": [
       "2593"
      ]
     },
     "execution_count": 6,
     "metadata": {},
     "output_type": "execute_result"
    }
   ],
   "source": [
    "len(trump_dict_list)"
   ]
  },
  {
   "cell_type": "code",
   "execution_count": 9,
   "metadata": {},
   "outputs": [
    {
     "data": {
      "text/plain": [
       "[{'created_at': 'Sat Dec 30 19:02:53 +0000 2017',\n",
       "  'favorite_count': 78932,\n",
       "  'id_str': '947181212468203520',\n",
       "  'is_retweet': False,\n",
       "  'retweet_count': 23270,\n",
       "  'text': 'Oppressive regimes cannot endure forever, and the day will come when the Iranian people will face a choice. The world is watching! https://t.co/kvv1uAqcZ9'},\n",
       " {'created_at': 'Sat Dec 30 03:42:58 +0000 2017',\n",
       "  'favorite_count': 138901,\n",
       "  'id_str': '946949708915924994',\n",
       "  'is_retweet': False,\n",
       "  'retweet_count': 60821,\n",
       "  'text': 'Many reports of peaceful protests by Iranian citizens fed up with regime’s corruption &amp; its squandering of the nation’s wealth to fund terrorism abroad. Iranian govt should respect their people’s rights, including right to express themselves. The world is watching! #IranProtests'}]"
      ]
     },
     "execution_count": 9,
     "metadata": {},
     "output_type": "execute_result"
    }
   ],
   "source": [
    "trump_dict_list[3:7:2]"
   ]
  },
  {
   "cell_type": "markdown",
   "metadata": {},
   "source": [
    "Now, we want to investigate the type of objects that are contained in `trump_dict_list`. We index to the first element in our `list` and apply the `type()` function. **Please, keep in mind that in Python indexing starts with 0!**"
   ]
  },
  {
   "cell_type": "code",
   "execution_count": 10,
   "metadata": {},
   "outputs": [
    {
     "data": {
      "text/plain": [
       "dict"
      ]
     },
     "execution_count": 10,
     "metadata": {},
     "output_type": "execute_result"
    }
   ],
   "source": [
    "type(trump_dict_list[0])"
   ]
  },
  {
   "cell_type": "markdown",
   "metadata": {},
   "source": [
    "It seems like the contained object is a `dict`, short for dictionary. From our textbook, we know that\n",
    "\n",
    "> *Dictionaries [...] are key-value mappings that are unordered and mutable. Dictionaries are indexed using keys, which can be any immutable object type, like numeric types or strings [...]. Dictionary values can be immutable or mutable objects,\n",
    "including lists and dictionaries themselves.*\n",
    "\n",
    "To sum it up: a `dict` is a **key-indexed** and **unordered** data type."
   ]
  },
  {
   "cell_type": "code",
   "execution_count": 12,
   "metadata": {},
   "outputs": [
    {
     "data": {
      "text/plain": [
       "{'created_at': 'Sat Dec 30 22:42:09 +0000 2017',\n",
       " 'favorite_count': 117013,\n",
       " 'id_str': '947236393184628741',\n",
       " 'is_retweet': False,\n",
       " 'retweet_count': 24332,\n",
       " 'text': 'Jobs are kicking in and companies are coming back to the U.S. Unnecessary regulations and high taxes are being dramatically Cut, and it will only get better. MUCH MORE TO COME!'}"
      ]
     },
     "execution_count": 12,
     "metadata": {},
     "output_type": "execute_result"
    }
   ],
   "source": [
    "trump_dict_list[0]"
   ]
  },
  {
   "cell_type": "markdown",
   "metadata": {},
   "source": [
    "New let's investigate the `dict` object. For the sake of simplicity, we create a new object `my_trump_dict`, so we don't need to index from `trump_dict_list` anymore."
   ]
  },
  {
   "cell_type": "code",
   "execution_count": 13,
   "metadata": {},
   "outputs": [],
   "source": [
    "my_trump_dict = trump_dict_list[1]"
   ]
  },
  {
   "cell_type": "code",
   "execution_count": 18,
   "metadata": {},
   "outputs": [
    {
     "data": {
      "text/plain": [
       "{'created_at': 'Sat Dec 30 22:36:41 +0000 2017',\n",
       " 'favorite_count': 195754,\n",
       " 'id_str': '947235015343202304',\n",
       " 'is_retweet': False,\n",
       " 'retweet_count': 50342,\n",
       " 'text': 'I use Social Media not because I like to, but because it is the only way to fight a VERY dishonest and unfair “press,” now often referred to as Fake News Media. Phony and non-existent “sources” are being used more often than ever. Many stories &amp; reports a pure fiction!'}"
      ]
     },
     "execution_count": 18,
     "metadata": {},
     "output_type": "execute_result"
    }
   ],
   "source": [
    "my_trump_dict"
   ]
  },
  {
   "cell_type": "code",
   "execution_count": 20,
   "metadata": {},
   "outputs": [
    {
     "data": {
      "text/plain": [
       "'I use Social Media not because I like to, but because it is the only way to fight a VERY dishonest and unfair “press,” now often referred to as Fake News Media. Phony and non-existent “sources” are being used more often than ever. Many stories &amp; reports a pure fiction!'"
      ]
     },
     "execution_count": 20,
     "metadata": {},
     "output_type": "execute_result"
    }
   ],
   "source": [
    "my_trump_dict.get('text')"
   ]
  },
  {
   "cell_type": "markdown",
   "metadata": {},
   "source": [
    "Useful functions when working with a `dict` are `.keys()` and `values()`."
   ]
  },
  {
   "cell_type": "code",
   "execution_count": 21,
   "metadata": {},
   "outputs": [
    {
     "data": {
      "text/plain": [
       "dict_keys(['text', 'created_at', 'retweet_count', 'favorite_count', 'is_retweet', 'id_str'])"
      ]
     },
     "execution_count": 21,
     "metadata": {},
     "output_type": "execute_result"
    }
   ],
   "source": [
    "my_trump_dict.keys()"
   ]
  },
  {
   "cell_type": "markdown",
   "metadata": {},
   "source": [
    "The functions `.keys()` shows us that the dictionary contains the text, the creation date, the retweet count, the favorite count, the flag if it is a retweet and the id of the tweet."
   ]
  },
  {
   "cell_type": "code",
   "execution_count": 22,
   "metadata": {},
   "outputs": [
    {
     "data": {
      "text/plain": [
       "dict_values(['I use Social Media not because I like to, but because it is the only way to fight a VERY dishonest and unfair “press,” now often referred to as Fake News Media. Phony and non-existent “sources” are being used more often than ever. Many stories &amp; reports a pure fiction!', 'Sat Dec 30 22:36:41 +0000 2017', 50342, 195754, False, '947235015343202304'])"
      ]
     },
     "execution_count": 22,
     "metadata": {},
     "output_type": "execute_result"
    }
   ],
   "source": [
    "my_trump_dict.values()"
   ]
  },
  {
   "cell_type": "markdown",
   "metadata": {},
   "source": [
    "As you can see, the `.values()` function shows us the values that hide behind the keys."
   ]
  },
  {
   "cell_type": "markdown",
   "metadata": {},
   "source": [
    "Now we will talk about how to extract specific values from a `dict`, based on a defined key. The function to go with here is `.get()`. It takes as input the name of a key in string representation:"
   ]
  },
  {
   "cell_type": "code",
   "execution_count": 9,
   "metadata": {},
   "outputs": [
    {
     "data": {
      "text/plain": [
       "'I use Social Media not because I like to, but because it is the only way to fight a VERY dishonest and unfair “press,” now often referred to as Fake News Media. Phony and non-existent “sources” are being used more often than ever. Many stories &amp; reports a pure fiction!'"
      ]
     },
     "execution_count": 9,
     "metadata": {},
     "output_type": "execute_result"
    }
   ],
   "source": [
    "my_trump_dict.get('text')"
   ]
  },
  {
   "cell_type": "markdown",
   "metadata": {},
   "source": [
    "## Controlling Code Flow"
   ]
  },
  {
   "cell_type": "markdown",
   "metadata": {},
   "source": [
    "In this section, we will talk about how to control the flow of your program. In particular, we will look at:  \n",
    "1. Conditional constructs\n",
    "2. Looping constructs"
   ]
  },
  {
   "cell_type": "markdown",
   "metadata": {},
   "source": [
    "### Conditional Constructs"
   ]
  },
  {
   "cell_type": "markdown",
   "metadata": {},
   "source": [
    "This chapter will deal with expressing locial statements in Python. If you are not familiar with basic logic or need a refresher, we recommend you to read *Representation of Semantics* of our textbook."
   ]
  },
  {
   "cell_type": "markdown",
   "metadata": {},
   "source": [
    "#### Logical Expressions"
   ]
  },
  {
   "cell_type": "markdown",
   "metadata": {},
   "source": [
    "Let's start with the basics: `A == B` tests if `A` equals `B`. If it does, it returns `True`. Otherwise it returns `False`."
   ]
  },
  {
   "cell_type": "code",
   "execution_count": 23,
   "metadata": {},
   "outputs": [
    {
     "data": {
      "text/plain": [
       "False"
      ]
     },
     "execution_count": 23,
     "metadata": {},
     "output_type": "execute_result"
    }
   ],
   "source": [
    "my_trump_dict == trump_dict_list[0]"
   ]
  },
  {
   "cell_type": "code",
   "execution_count": 24,
   "metadata": {},
   "outputs": [
    {
     "data": {
      "text/plain": [
       "True"
      ]
     },
     "execution_count": 24,
     "metadata": {},
     "output_type": "execute_result"
    }
   ],
   "source": [
    "my_trump_dict == trump_dict_list[1]"
   ]
  },
  {
   "cell_type": "markdown",
   "metadata": {},
   "source": [
    "Next, `A or B` tests if `A` or `B` are `True`. If at least one item is `True`, then the expression is `True` as well."
   ]
  },
  {
   "cell_type": "code",
   "execution_count": 25,
   "metadata": {},
   "outputs": [
    {
     "data": {
      "text/plain": [
       "True"
      ]
     },
     "execution_count": 25,
     "metadata": {},
     "output_type": "execute_result"
    }
   ],
   "source": [
    "my_trump_dict == trump_dict_list[0] or my_trump_dict == trump_dict_list[1]"
   ]
  },
  {
   "cell_type": "markdown",
   "metadata": {},
   "source": [
    "Similarly, `A and B` tests if `A` and `B` are `True`. Only if all items are `True` the expression will evaluate to `True` as well."
   ]
  },
  {
   "cell_type": "code",
   "execution_count": 26,
   "metadata": {},
   "outputs": [
    {
     "data": {
      "text/plain": [
       "False"
      ]
     },
     "execution_count": 26,
     "metadata": {},
     "output_type": "execute_result"
    }
   ],
   "source": [
    "my_trump_dict == trump_dict_list[0] and my_trump_dict == trump_dict_list[1]"
   ]
  },
  {
   "cell_type": "markdown",
   "metadata": {},
   "source": [
    "`not A` flips the logical value of `A`. When `A` is `True`it returns `False` and vice versa."
   ]
  },
  {
   "cell_type": "code",
   "execution_count": 14,
   "metadata": {},
   "outputs": [
    {
     "data": {
      "text/plain": [
       "True"
      ]
     },
     "execution_count": 14,
     "metadata": {},
     "output_type": "execute_result"
    }
   ],
   "source": [
    "not my_trump_dict == trump_dict_list[0]"
   ]
  },
  {
   "cell_type": "markdown",
   "metadata": {},
   "source": [
    "A great logical operator in Python is `A in B`. It returns `True` if `A` is equal to one element in `B`."
   ]
  },
  {
   "cell_type": "code",
   "execution_count": 15,
   "metadata": {},
   "outputs": [
    {
     "data": {
      "text/plain": [
       "True"
      ]
     },
     "execution_count": 15,
     "metadata": {},
     "output_type": "execute_result"
    }
   ],
   "source": [
    "my_trump_dict in trump_dict_list"
   ]
  },
  {
   "cell_type": "code",
   "execution_count": 27,
   "metadata": {},
   "outputs": [
    {
     "data": {
      "text/plain": [
       "True"
      ]
     },
     "execution_count": 27,
     "metadata": {},
     "output_type": "execute_result"
    }
   ],
   "source": [
    "\"Fake News\" in my_trump_dict.get('text')"
   ]
  },
  {
   "cell_type": "markdown",
   "metadata": {},
   "source": [
    "When it comes to Python, there some many tricks for logical expressions that can come in handy sometimes, such as:"
   ]
  },
  {
   "cell_type": "code",
   "execution_count": 17,
   "metadata": {},
   "outputs": [
    {
     "data": {
      "text/plain": [
       "True"
      ]
     },
     "execution_count": 17,
     "metadata": {},
     "output_type": "execute_result"
    }
   ],
   "source": [
    "not list()"
   ]
  },
  {
   "cell_type": "markdown",
   "metadata": {},
   "source": [
    "If you want to know more about this topic, you can find a great resource [here](http://thomas-cokelaer.info/tutorials/python/boolean.html)"
   ]
  },
  {
   "cell_type": "markdown",
   "metadata": {},
   "source": [
    "#### If Statements"
   ]
  },
  {
   "cell_type": "markdown",
   "metadata": {},
   "source": [
    "`if` statements are the backbone of control flow in Python (and basically any other language). The basic syntax is:  \n",
    "```\n",
    "if A:\n",
    "    b()\n",
    "else:\n",
    "    c()\n",
    "```\n",
    "Where `A` is a logical value and `b()` and `c()` is an abitrary function. If `A` is `True`, then `b()` will be executed. Otherwise, `c()` will be executed. Keep in mind that the `else` part of an `if` statement is optional."
   ]
  },
  {
   "cell_type": "code",
   "execution_count": 28,
   "metadata": {},
   "outputs": [
    {
     "name": "stdout",
     "output_type": "stream",
     "text": [
      "That is not what we are looking for...\n"
     ]
    }
   ],
   "source": [
    "if my_trump_dict == trump_dict_list[0]:\n",
    "    print(\"That is our favorite tweet!\")\n",
    "else:\n",
    "    print(\"That is not what we are looking for...\")"
   ]
  },
  {
   "cell_type": "markdown",
   "metadata": {},
   "source": [
    "### Exercise"
   ]
  },
  {
   "cell_type": "markdown",
   "metadata": {},
   "source": [
    "**Question #1**: *Write the following code flow.*\n",
    "\n",
    "*If `my_trump_dict` contains the term \"Fake News\" and the number of retweets if greater than 50,000, print \"The tweet is about 'Fake News' and was very popular\". If `my_trump_dict` contains the term 'Fake New' and the number of retweets is smaller or equal to 50,000, print \"The tweet is about 'Fake News' but was not very popular\". Otherwise, print \"The tweet was not about 'Fake News'.\"*"
   ]
  },
  {
   "cell_type": "code",
   "execution_count": 29,
   "metadata": {},
   "outputs": [
    {
     "data": {
      "text/plain": [
       "{'created_at': 'Sat Dec 30 22:36:41 +0000 2017',\n",
       " 'favorite_count': 195754,\n",
       " 'id_str': '947235015343202304',\n",
       " 'is_retweet': False,\n",
       " 'retweet_count': 50342,\n",
       " 'text': 'I use Social Media not because I like to, but because it is the only way to fight a VERY dishonest and unfair “press,” now often referred to as Fake News Media. Phony and non-existent “sources” are being used more often than ever. Many stories &amp; reports a pure fiction!'}"
      ]
     },
     "execution_count": 29,
     "metadata": {},
     "output_type": "execute_result"
    }
   ],
   "source": [
    "my_trump_dict"
   ]
  },
  {
   "cell_type": "code",
   "execution_count": 31,
   "metadata": {},
   "outputs": [
    {
     "name": "stdout",
     "output_type": "stream",
     "text": [
      "A\n"
     ]
    }
   ],
   "source": [
    "# Type your solution here:\n",
    "if 'Fake News' in my_trump_dict.get('text'):\n",
    "    if my_trump_dict.get('retweet_count') > 50000:\n",
    "        print('A')\n",
    "    else:\n",
    "        print('B')\n",
    "else:\n",
    "    prinnt('C')"
   ]
  },
  {
   "cell_type": "markdown",
   "metadata": {},
   "source": [
    "### Looping constructs"
   ]
  },
  {
   "cell_type": "markdown",
   "metadata": {},
   "source": [
    "Now we will deal with another fundamental part of Python: looping operators. In this section, we will look at:  \n",
    "1. The `for` loop\n",
    "2. The `break` and `continue` statement"
   ]
  },
  {
   "cell_type": "markdown",
   "metadata": {},
   "source": [
    "#### `for` Loops"
   ]
  },
  {
   "cell_type": "markdown",
   "metadata": {},
   "source": [
    "`for` loops are the most basic looping mechanism in Python. Every `for` loop is built like this:  \n",
    "```\n",
    "for A in B:\n",
    "    c()\n",
    "```\n",
    "Where `A` is a copy of an element of `B` that can be accessed from inside the loop and `c()` is an abitrary function."
   ]
  },
  {
   "cell_type": "markdown",
   "metadata": {},
   "source": [
    "`for` loops are very convenient for iterating through a `list`:"
   ]
  },
  {
   "cell_type": "code",
   "execution_count": 32,
   "metadata": {},
   "outputs": [
    {
     "name": "stdout",
     "output_type": "stream",
     "text": [
      "Trump tweeted about the Clintons 55 times.\n"
     ]
    }
   ],
   "source": [
    "clinton_counter = 0\n",
    "for trump_dict in trump_dict_list:\n",
    "    if 'Clinton' in trump_dict.get('text'):\n",
    "        clinton_counter += 1\n",
    "print('Trump tweeted about the Clintons {} times.'.format(clinton_counter))"
   ]
  },
  {
   "cell_type": "markdown",
   "metadata": {},
   "source": [
    "#### `continue` and `break` statements"
   ]
  },
  {
   "cell_type": "markdown",
   "metadata": {},
   "source": [
    "You do not always have to go through all iterations of a loop. `continue` and `break` help you to skip one iteration and quit the loop entirely, which can make your code much faster."
   ]
  },
  {
   "cell_type": "code",
   "execution_count": 33,
   "metadata": {},
   "outputs": [
    {
     "name": "stdout",
     "output_type": "stream",
     "text": [
      "Trump tweeted about the Clintons 26 times.\n"
     ]
    }
   ],
   "source": [
    "clinton_counter = 0\n",
    "for trump_dict in trump_dict_list:\n",
    "    if 'Hillary' in trump_dict.get('text'):\n",
    "        continue\n",
    "    if 'Clinton' in trump_dict.get('text'):\n",
    "        clinton_counter += 1\n",
    "print('Trump tweeted about the Clintons {} times.'.format(clinton_counter))"
   ]
  },
  {
   "cell_type": "markdown",
   "metadata": {},
   "source": [
    "### Exercise"
   ]
  },
  {
   "cell_type": "markdown",
   "metadata": {},
   "source": [
    "**Question #1:** *Build the following looping construct.*  \n",
    "\n",
    "*Count the number of times that Trump uses the word 'China'.*  \n",
    "**Note**:  *Do not count the number of tweets that contain the word 'China' (the word might occur multiple times in one tweet).*"
   ]
  },
  {
   "cell_type": "code",
   "execution_count": 36,
   "metadata": {},
   "outputs": [
    {
     "name": "stdout",
     "output_type": "stream",
     "text": [
      "41\n"
     ]
    }
   ],
   "source": [
    "# Type your solution here\n",
    "china_counter = 0\n",
    "for trump_dict in trump_dict_list:\n",
    "    for word in trump_dict.get('text').split():\n",
    "        if word == 'China':\n",
    "            china_counter += 1\n",
    "print(china_counter)"
   ]
  },
  {
   "cell_type": "code",
   "execution_count": 35,
   "metadata": {},
   "outputs": [],
   "source": [
    "assert china_counter == 41, \"The solution should be 41, but your solution is {}.\".format(china_counter)"
   ]
  },
  {
   "cell_type": "markdown",
   "metadata": {},
   "source": [
    "**Question #2:** *Build the following looping construct.*  \n",
    "\n",
    "*How many times did Trump tweet about Barack 'Obama' before talking about Bernie 'Sanders'?*"
   ]
  },
  {
   "cell_type": "code",
   "execution_count": 24,
   "metadata": {},
   "outputs": [],
   "source": [
    "# Type your solution here\n",
    "obama_count = 0"
   ]
  },
  {
   "cell_type": "code",
   "execution_count": 25,
   "metadata": {},
   "outputs": [
    {
     "ename": "AssertionError",
     "evalue": "The solution should be 15 but your solution is 0",
     "output_type": "error",
     "traceback": [
      "\u001b[1;31m---------------------------------------------------------------------------\u001b[0m",
      "\u001b[1;31mAssertionError\u001b[0m                            Traceback (most recent call last)",
      "\u001b[1;32m<ipython-input-25-15a27bfcea8b>\u001b[0m in \u001b[0;36m<module>\u001b[1;34m()\u001b[0m\n\u001b[1;32m----> 1\u001b[1;33m \u001b[1;32massert\u001b[0m \u001b[0mobama_count\u001b[0m \u001b[1;33m==\u001b[0m \u001b[1;36m15\u001b[0m\u001b[1;33m,\u001b[0m \u001b[1;34m\"The solution should be 15 but your solution is {}\"\u001b[0m\u001b[1;33m.\u001b[0m\u001b[0mformat\u001b[0m\u001b[1;33m(\u001b[0m\u001b[0mobama_count\u001b[0m\u001b[1;33m)\u001b[0m\u001b[1;33m\u001b[0m\u001b[0m\n\u001b[0m",
      "\u001b[1;31mAssertionError\u001b[0m: The solution should be 15 but your solution is 0"
     ]
    }
   ],
   "source": [
    "assert obama_count == 15, \"The solution should be 15 but your solution is {}\".format(obama_count)"
   ]
  },
  {
   "cell_type": "markdown",
   "metadata": {},
   "source": [
    "## Functional Programming"
   ]
  },
  {
   "cell_type": "markdown",
   "metadata": {},
   "source": [
    "We are starting to entre the more sophisticaed area of Python, introducing functional programming. In this chapter, we will begin to understand:  \n",
    "1. Functions\n",
    "2. Comprehensions  \n",
    "\n",
    "**Note**: We will slightly digress from the textbook here, since we will not cover the following parts:  \n",
    "* Recursive functions  \n",
    "* Anonymous functions  \n",
    "* Iterators  \n",
    "* Generators  \n",
    "\n",
    "You can find more information about these topics in the chapter *'Functional Programming'*.\n"
   ]
  },
  {
   "cell_type": "markdown",
   "metadata": {},
   "source": [
    "### Functions"
   ]
  },
  {
   "cell_type": "markdown",
   "metadata": {},
   "source": [
    "This is what our textbook has to say about functions:  \n",
    ">*A function can be defined as a block of code that is executed only on request by invoking\n",
    "it. Functions consist of a function definition that has the function signature (function\n",
    "name, parameters) and a group of statements inside the function that are executed when\n",
    "the function is called.*  \n",
    "\n",
    "In general, this is how a function looks like:  \n",
    "```\n",
    "def function(params): # params are the input parameters\n",
    "    <code block> # code block consists of a group of statements\n",
    "    return value(s) # optional return statement\n",
    "```"
   ]
  },
  {
   "cell_type": "markdown",
   "metadata": {},
   "source": [
    "For example, we can build a simple function that checks whether the tweet contains the search term 'Fake News':"
   ]
  },
  {
   "cell_type": "code",
   "execution_count": 38,
   "metadata": {},
   "outputs": [],
   "source": [
    "def tweet_contains_fake_news(tweet_dict):\n",
    "    \"\"\"\n",
    "    Checks whether tweet contains 'Fake News'.\n",
    "    \n",
    "    Takes the 'text' element from the dictionary and matches the pattern 'Fake News' against it.\n",
    "    \n",
    "    Args:\n",
    "        tweet: A dictionary that contains tweet data.\n",
    "    Returns:\n",
    "        A boolean value, corresponding to whether the tweet contains 'Fake News'.\n",
    "    \"\"\"\n",
    "    \n",
    "    contains_fake_news =  'Fake News' in tweet_dict.get('text')\n",
    "    return contains_fake_news"
   ]
  },
  {
   "cell_type": "markdown",
   "metadata": {},
   "source": [
    "Now that we have defined the function `tweet_contains_fake_news`, we can test its behavior."
   ]
  },
  {
   "cell_type": "code",
   "execution_count": 41,
   "metadata": {},
   "outputs": [
    {
     "data": {
      "text/plain": [
       "False"
      ]
     },
     "execution_count": 41,
     "metadata": {},
     "output_type": "execute_result"
    }
   ],
   "source": [
    "tweet_contains_fake_news(trump_dict_list[0])"
   ]
  },
  {
   "cell_type": "markdown",
   "metadata": {},
   "source": [
    "Knowing that the tweet actually contains the search term *'Fake News'*, the returned output seems correct."
   ]
  },
  {
   "cell_type": "markdown",
   "metadata": {},
   "source": [
    "### Exercise"
   ]
  },
  {
   "cell_type": "markdown",
   "metadata": {},
   "source": [
    "**Question #1:** *Build the `count_words_in_tweet()` function.*"
   ]
  },
  {
   "cell_type": "code",
   "execution_count": 49,
   "metadata": {},
   "outputs": [],
   "source": [
    "# Type your solution here\n",
    "\n",
    "def count_words_in_tweet(tweet_dict):\n",
    "    \"\"\"\n",
    "    Counts the words in a tweet.\n",
    "    \n",
    "    Retrieves the text from the tweet, splits it by spaces and counts\n",
    "    the length of the list.\n",
    "    \n",
    "    Args:\n",
    "        tweet: A dictionary that contains tweet data\n",
    "    \n",
    "    Returns:\n",
    "        An interger value, corresponding to the number of words in the tweet.\n",
    "    \"\"\"\n",
    "    word_count = len(tweet_dict.get('text').split())\n",
    "    return word_count"
   ]
  },
  {
   "cell_type": "code",
   "execution_count": 50,
   "metadata": {},
   "outputs": [
    {
     "name": "stdout",
     "output_type": "stream",
     "text": [
      "50\n"
     ]
    }
   ],
   "source": [
    "print(count_words_in_tweet(my_trump_dict))"
   ]
  },
  {
   "cell_type": "markdown",
   "metadata": {},
   "source": [
    "Again let's test our function `count_words_in_tweet`:"
   ]
  },
  {
   "cell_type": "code",
   "execution_count": 51,
   "metadata": {},
   "outputs": [],
   "source": [
    "assert count_words_in_tweet(my_trump_dict) == 50, \"The solution should be 50 but your solution is {}.\".format(\n",
    "    count_words_in_tweet(my_trump_dict))"
   ]
  },
  {
   "cell_type": "code",
   "execution_count": 30,
   "metadata": {},
   "outputs": [
    {
     "data": {
      "text/plain": [
       "'I use Social Media not because I like to, but because it is the only way to fight a VERY dishonest and unfair “press,” now often referred to as Fake News Media. Phony and non-existent “sources” are being used more often than ever. Many stories &amp; reports a pure fiction!'"
      ]
     },
     "execution_count": 30,
     "metadata": {},
     "output_type": "execute_result"
    }
   ],
   "source": [
    "my_trump_dict.get('text')"
   ]
  },
  {
   "cell_type": "markdown",
   "metadata": {},
   "source": [
    "The returned value (50) seems to align with the number of words in the tweet. That's good!"
   ]
  },
  {
   "cell_type": "markdown",
   "metadata": {},
   "source": [
    "**Question #2:** *In average, how many words does Trump use per tweet?*  \n",
    "**Hint:** Use the `count_words_in_tweet()` function."
   ]
  },
  {
   "cell_type": "code",
   "execution_count": 53,
   "metadata": {},
   "outputs": [
    {
     "ename": "IndentationError",
     "evalue": "expected an indented block (<ipython-input-53-58ec050afd63>, line 7)",
     "output_type": "error",
     "traceback": [
      "\u001b[1;36m  File \u001b[1;32m\"<ipython-input-53-58ec050afd63>\"\u001b[1;36m, line \u001b[1;32m7\u001b[0m\n\u001b[1;33m    word_avg = 0\u001b[0m\n\u001b[1;37m           ^\u001b[0m\n\u001b[1;31mIndentationError\u001b[0m\u001b[1;31m:\u001b[0m expected an indented block\n"
     ]
    }
   ],
   "source": [
    "# Solution as a loop:\n",
    "\n",
    "      \n",
    "\n",
    "word_avg = 0"
   ]
  },
  {
   "cell_type": "code",
   "execution_count": 32,
   "metadata": {},
   "outputs": [
    {
     "ename": "AssertionError",
     "evalue": "The solution should be 21 but your solution is 0.",
     "output_type": "error",
     "traceback": [
      "\u001b[1;31m---------------------------------------------------------------------------\u001b[0m",
      "\u001b[1;31mAssertionError\u001b[0m                            Traceback (most recent call last)",
      "\u001b[1;32m<ipython-input-32-035d36293edf>\u001b[0m in \u001b[0;36m<module>\u001b[1;34m()\u001b[0m\n\u001b[1;32m----> 1\u001b[1;33m \u001b[1;32massert\u001b[0m \u001b[0mround\u001b[0m\u001b[1;33m(\u001b[0m\u001b[0mword_avg\u001b[0m\u001b[1;33m)\u001b[0m \u001b[1;33m==\u001b[0m \u001b[1;36m21\u001b[0m\u001b[1;33m,\u001b[0m \u001b[1;34m\"The solution should be 21 but your solution is {}.\"\u001b[0m\u001b[1;33m.\u001b[0m\u001b[0mformat\u001b[0m\u001b[1;33m(\u001b[0m\u001b[0mround\u001b[0m\u001b[1;33m(\u001b[0m\u001b[0mword_avg\u001b[0m\u001b[1;33m)\u001b[0m\u001b[1;33m)\u001b[0m\u001b[1;33m\u001b[0m\u001b[0m\n\u001b[0m",
      "\u001b[1;31mAssertionError\u001b[0m: The solution should be 21 but your solution is 0."
     ]
    }
   ],
   "source": [
    "assert round(word_avg) == 21, \"The solution should be 21 but your solution is {}.\".format(round(word_avg))"
   ]
  },
  {
   "cell_type": "markdown",
   "metadata": {},
   "source": [
    "The solution is perfectly valid. However, here is another implementation, using the `statistics` package:"
   ]
  },
  {
   "cell_type": "code",
   "execution_count": 33,
   "metadata": {},
   "outputs": [],
   "source": [
    "import statistics"
   ]
  },
  {
   "cell_type": "code",
   "execution_count": 34,
   "metadata": {},
   "outputs": [],
   "source": [
    "# Type your solution here\n",
    "pass"
   ]
  },
  {
   "cell_type": "markdown",
   "metadata": {},
   "source": [
    "The results are equivalent - *a good sign!*"
   ]
  },
  {
   "cell_type": "markdown",
   "metadata": {},
   "source": [
    "### Comprehensions"
   ]
  },
  {
   "cell_type": "markdown",
   "metadata": {},
   "source": [
    "Comprehensions are a very *pythonic* way of programming. They allow to execute `for` loops in a more code-efficient way.  \n",
    "```\n",
    "# typical comprehension syntax\n",
    "[ expression for item in iterable ]\n",
    "\n",
    "# equivalent for loop statement\n",
    "for item in iterable:\n",
    "    expression\n",
    "```"
   ]
  },
  {
   "cell_type": "markdown",
   "metadata": {},
   "source": [
    "This is a nice example for the beauty of comprehensions:\n",
    "\n",
    "We can extract the text of all tweets that contain the word 'Mexico' in just one line of code.  \n",
    "In comparison, it takes 5 lines of code, using a `for` loop."
   ]
  },
  {
   "cell_type": "code",
   "execution_count": 35,
   "metadata": {
    "scrolled": true
   },
   "outputs": [
    {
     "data": {
      "text/plain": [
       "18"
      ]
     },
     "execution_count": 35,
     "metadata": {},
     "output_type": "execute_result"
    }
   ],
   "source": [
    "mexico_tweets = list()\n",
    "for trump_dict in trump_dict_list:\n",
    "    if 'Mexico' in trump_dict.get('text'):\n",
    "        mexico_tweets.append(trump_dict)\n",
    "len(mexico_tweets)"
   ]
  },
  {
   "cell_type": "code",
   "execution_count": 52,
   "metadata": {},
   "outputs": [
    {
     "data": {
      "text/plain": [
       "18"
      ]
     },
     "execution_count": 52,
     "metadata": {},
     "output_type": "execute_result"
    }
   ],
   "source": [
    "len([trump_dict for trump_dict in trump_dict_list if 'Mexico' in trump_dict.get('text')])"
   ]
  },
  {
   "cell_type": "markdown",
   "metadata": {},
   "source": [
    "### Exercise"
   ]
  },
  {
   "cell_type": "markdown",
   "metadata": {},
   "source": [
    "**Question #1:** *Calculate the mean number of words in all tweets that longer than 50 characters.*  \n",
    "**Note:** Try using comprehensions."
   ]
  },
  {
   "cell_type": "code",
   "execution_count": 57,
   "metadata": {},
   "outputs": [],
   "source": [
    "import statistics"
   ]
  },
  {
   "cell_type": "code",
   "execution_count": 60,
   "metadata": {},
   "outputs": [
    {
     "name": "stdout",
     "output_type": "stream",
     "text": [
      "21.765820233776704\n"
     ]
    }
   ],
   "source": [
    "# Solution as a loop.\n",
    "\n",
    "word_list = list()\n",
    "\n",
    "for trump_dict in trump_dict_list:\n",
    "    char_len = len(trump_dict.get('text'))\n",
    "    word_count = len(trump_dict.get('text').split())    \n",
    "    if char_len > 50:\n",
    "        word_list.append(word_count)\n",
    "\n",
    "word_avg = statistics.mean(word_list)\n",
    "print(word_avg)"
   ]
  },
  {
   "cell_type": "code",
   "execution_count": 64,
   "metadata": {},
   "outputs": [
    {
     "data": {
      "text/plain": [
       "21.765820233776704"
      ]
     },
     "execution_count": 64,
     "metadata": {},
     "output_type": "execute_result"
    }
   ],
   "source": [
    "# Solution as comprehension\n",
    "\n",
    "statistics.mean([len(trump_dict.get('text').split()) for trump_dict in trump_dict_list if len(trump_dict.get('text')) > 50])"
   ]
  },
  {
   "cell_type": "code",
   "execution_count": 37,
   "metadata": {},
   "outputs": [],
   "source": [
    "# Solution as a comprehension.\n",
    "\n",
    "statis"
   ]
  },
  {
   "cell_type": "code",
   "execution_count": 38,
   "metadata": {},
   "outputs": [
    {
     "ename": "AssertionError",
     "evalue": "The solution should be 53 but your solution is 0.",
     "output_type": "error",
     "traceback": [
      "\u001b[1;31m---------------------------------------------------------------------------\u001b[0m",
      "\u001b[1;31mAssertionError\u001b[0m                            Traceback (most recent call last)",
      "\u001b[1;32m<ipython-input-38-e01ae8c77303>\u001b[0m in \u001b[0;36m<module>\u001b[1;34m()\u001b[0m\n\u001b[1;32m----> 1\u001b[1;33m \u001b[1;32massert\u001b[0m \u001b[0mround\u001b[0m\u001b[1;33m(\u001b[0m\u001b[0mlong_tweet_avg\u001b[0m\u001b[1;33m)\u001b[0m \u001b[1;33m==\u001b[0m \u001b[1;36m53\u001b[0m\u001b[1;33m,\u001b[0m \u001b[1;34m\"The solution should be 53 but your solution is {}.\"\u001b[0m\u001b[1;33m.\u001b[0m\u001b[0mformat\u001b[0m\u001b[1;33m(\u001b[0m\u001b[0mround\u001b[0m\u001b[1;33m(\u001b[0m\u001b[0mlong_tweet_avg\u001b[0m\u001b[1;33m)\u001b[0m\u001b[1;33m)\u001b[0m\u001b[1;33m\u001b[0m\u001b[0m\n\u001b[0m",
      "\u001b[1;31mAssertionError\u001b[0m: The solution should be 53 but your solution is 0."
     ]
    }
   ],
   "source": [
    "assert round(long_tweet_avg) == 53, \"The solution should be 53 but your solution is {}.\".format(round(long_tweet_avg))"
   ]
  },
  {
   "cell_type": "markdown",
   "metadata": {},
   "source": [
    "## Classes"
   ]
  },
  {
   "cell_type": "markdown",
   "metadata": {},
   "source": [
    "Python incorporates many principles of *object-oriented-programming* (OOP), such as classes. In a nutshell, classes are a model of a real-world entity. Anything can be a class: a *'car'*, a *'neural network'* or a *'tweet'*. If you are new to the world of OOP, this [video](https://www.youtube.com/watch?v=lbXsrHGhBAU) will provide you with a great general introduction to the topic. In our course, we will learn about classes in a learning-by-doing approach.  \n",
    "\n",
    "In the first step, we will design a class that represents a tweet in our data set."
   ]
  },
  {
   "cell_type": "code",
   "execution_count": 66,
   "metadata": {},
   "outputs": [],
   "source": [
    "class Tweet(object):\n",
    "    \"\"\"Class represents tweet from Twitter.\n",
    "\n",
    "    Attributes:\n",
    "        tweet_id: A unique identifier.\n",
    "        created_at: A date-time, describing when the tweet was sent.\n",
    "        text: A string, containing the message of the tweet.\n",
    "        is_retweet: A boolean, stating whether it is a retweet.\n",
    "        retweet_count: An integer, stating the number of retweets.\n",
    "        favorite_count: An integer, stating the number of favorites.\n",
    "    \"\"\"\n",
    "\n",
    "    def __init__(self, tweet_id, created_at, text, is_retweet, retweet_count, favorite_count):\n",
    "        \"\"\"Initialzes Tweet class with defined content.\"\"\"\n",
    "        self.tweet_id = tweet_id\n",
    "        self.created_at = created_at\n",
    "        self.text = text\n",
    "        self.is_retweet = is_retweet\n",
    "        self.retweet_count = retweet_count\n",
    "        self.favorite_count = favorite_count"
   ]
  },
  {
   "cell_type": "markdown",
   "metadata": {},
   "source": [
    "### Introduction to `__init__()`"
   ]
  },
  {
   "cell_type": "markdown",
   "metadata": {},
   "source": [
    "The `__init__()` function is what we call the *constructor*. It takes a set of inputs and and returns a object of class `Tweet`. To distinguish between the input parameters and the internal values, we use the `self.` operator. Keep in mind that you do not call the `__init__()` function directly. Instead, we call the constructor over the name of the class, in our case `Tweet()`:"
   ]
  },
  {
   "cell_type": "code",
   "execution_count": 68,
   "metadata": {},
   "outputs": [
    {
     "data": {
      "text/plain": [
       "__main__.Tweet"
      ]
     },
     "execution_count": 68,
     "metadata": {},
     "output_type": "execute_result"
    }
   ],
   "source": [
    "my_trump_tweet = Tweet(my_trump_dict.get('id_str'), my_trump_dict.get('created_at'),\n",
    "                       my_trump_dict.get('text'), my_trump_dict.get('is_retweet'), \n",
    "                       my_trump_dict.get('retweet_count'), my_trump_dict.get('favorite_count'))\n",
    "type(my_trump_tweet)"
   ]
  },
  {
   "cell_type": "code",
   "execution_count": 70,
   "metadata": {},
   "outputs": [
    {
     "data": {
      "text/plain": [
       "'947235015343202304'"
      ]
     },
     "execution_count": 70,
     "metadata": {},
     "output_type": "execute_result"
    }
   ],
   "source": [
    "my_trump_tweet.tweet_id"
   ]
  },
  {
   "cell_type": "markdown",
   "metadata": {},
   "source": [
    "### Exercise"
   ]
  },
  {
   "cell_type": "markdown",
   "metadata": {},
   "source": [
    "You can see that an object of class `Tweet` has been created. However, the construction of the object was quite tedious. Let's build a static function `create_tweet_from_dict()` that takes in a `dict` with tweet information and constructs a `Tweet` object:"
   ]
  },
  {
   "cell_type": "code",
   "execution_count": 71,
   "metadata": {},
   "outputs": [],
   "source": [
    "# Type your solution here\n",
    "\n",
    "def create_tweet_from_dict(tweet_dict):\n",
    "    \"\"\"\n",
    "    Creates a tweet object from dictionary.\n",
    "    \n",
    "    Extracts tweet_id, created_at, text, is_retweet,\n",
    "    retweet_count and favorite_count from dictionary.\n",
    "    \n",
    "    Args:\n",
    "        tweet_dict: A dictionary, containing tweet information.\n",
    "        \n",
    "    Returns:\n",
    "        A tweet object.\n",
    "    \"\"\"\n",
    "    # Extract parameters from dictionary\n",
    "    tweet_id = tweet_dict.get('id_str')\n",
    "    created_at = tweet_dict.get('created_at')\n",
    "    text = tweet_dict.get('text')\n",
    "    is_retweet = tweet_dict.get('is_retweet')\n",
    "    retweet_count = tweet_dict.get('retweet_count')\n",
    "    favorite_count = tweet_dict.get('favorite_count')\n",
    "    \n",
    "    # Create tweet object\n",
    "    tweet = Tweet(tweet_id, created_at, text, is_retweet, retweet_count, favorite_count)\n",
    "    \n",
    "    return tweet"
   ]
  },
  {
   "cell_type": "markdown",
   "metadata": {},
   "source": [
    "Now, let's test our new `create_tweet_from_dict()` function:"
   ]
  },
  {
   "cell_type": "code",
   "execution_count": 73,
   "metadata": {},
   "outputs": [],
   "source": [
    "my_trump_tweet = create_tweet_from_dict(my_trump_dict)"
   ]
  },
  {
   "cell_type": "code",
   "execution_count": 75,
   "metadata": {},
   "outputs": [
    {
     "data": {
      "text/plain": [
       "__main__.Tweet"
      ]
     },
     "execution_count": 75,
     "metadata": {},
     "output_type": "execute_result"
    }
   ],
   "source": [
    "type(my_trump_tweet)"
   ]
  },
  {
   "cell_type": "code",
   "execution_count": 43,
   "metadata": {},
   "outputs": [],
   "source": [
    "assert type(my_trump_tweet) == Tweet, \"Your object is not of type Tweet but {}.\".format(\n",
    "type(my_trump_tweet))"
   ]
  },
  {
   "cell_type": "code",
   "execution_count": 44,
   "metadata": {},
   "outputs": [],
   "source": [
    "assert my_trump_tweet.text == my_trump_dict.get('text'), \"The content of the two elements does not match.\""
   ]
  },
  {
   "cell_type": "markdown",
   "metadata": {},
   "source": [
    "This creates an equal object in a much more convenient way. *Well done!*  \n",
    "We can now create a list of objects of class `Tweet` that we will call `new_trump_tweets`:"
   ]
  },
  {
   "cell_type": "code",
   "execution_count": 76,
   "metadata": {},
   "outputs": [
    {
     "data": {
      "text/plain": [
       "2593"
      ]
     },
     "execution_count": 76,
     "metadata": {},
     "output_type": "execute_result"
    }
   ],
   "source": [
    "trump_tweet_list = list()\n",
    "for trump_dict in trump_dict_list:\n",
    "    trump_tweet = create_tweet_from_dict(trump_dict)\n",
    "    trump_tweet_list.append(trump_tweet)\n",
    "len(trump_tweet_list)"
   ]
  },
  {
   "cell_type": "markdown",
   "metadata": {},
   "source": [
    "### Introduction to `__str__()`"
   ]
  },
  {
   "cell_type": "code",
   "execution_count": 77,
   "metadata": {},
   "outputs": [
    {
     "name": "stdout",
     "output_type": "stream",
     "text": [
      "{'text': 'I use Social Media not because I like to, but because it is the only way to fight a VERY dishonest and unfair “press,” now often referred to as Fake News Media. Phony and non-existent “sources” are being used more often than ever. Many stories &amp; reports a pure fiction!', 'created_at': 'Sat Dec 30 22:36:41 +0000 2017', 'retweet_count': 50342, 'favorite_count': 195754, 'is_retweet': False, 'id_str': '947235015343202304'}\n"
     ]
    }
   ],
   "source": [
    "print(my_trump_dict)"
   ]
  },
  {
   "cell_type": "markdown",
   "metadata": {},
   "source": [
    "Next, we want to build a function that returns an eye-friendly representation of our `Tweet` object. What about something like this:"
   ]
  },
  {
   "cell_type": "code",
   "execution_count": 78,
   "metadata": {},
   "outputs": [],
   "source": [
    "def string_tweet(tweet):\n",
    "    return \"Tweet id: {}\\nCreated at: {}\\nIs retweet: {}\\nRetweet count: {}\\nFavorite count: {}\\nText:\\n{}\".format(\n",
    "        tweet.tweet_id, tweet.created_at, tweet.is_retweet,\n",
    "        tweet.retweet_count, tweet.favorite_count, tweet.text)"
   ]
  },
  {
   "cell_type": "code",
   "execution_count": 79,
   "metadata": {},
   "outputs": [
    {
     "name": "stdout",
     "output_type": "stream",
     "text": [
      "Tweet id: 947235015343202304\n",
      "Created at: Sat Dec 30 22:36:41 +0000 2017\n",
      "Is retweet: False\n",
      "Retweet count: 50342\n",
      "Favorite count: 195754\n",
      "Text:\n",
      "I use Social Media not because I like to, but because it is the only way to fight a VERY dishonest and unfair “press,” now often referred to as Fake News Media. Phony and non-existent “sources” are being used more often than ever. Many stories &amp; reports a pure fiction!\n"
     ]
    }
   ],
   "source": [
    "print(string_tweet(my_trump_tweet))"
   ]
  },
  {
   "cell_type": "markdown",
   "metadata": {},
   "source": [
    "What a nice representation for our tweet!  \n",
    "\n",
    "We can now integrate the `string_tweet()` function into our `Tweet` class. The trick is to override the `__str__()` function, which returns a user-friendly representation of the object. Every class in Python comes innately with a `__str__()` function."
   ]
  },
  {
   "cell_type": "code",
   "execution_count": 80,
   "metadata": {},
   "outputs": [],
   "source": [
    "Tweet.__str__ = string_tweet"
   ]
  },
  {
   "cell_type": "markdown",
   "metadata": {},
   "source": [
    "The `__str__()` function is especially useful, since it is called by other functions, such as `print()`:"
   ]
  },
  {
   "cell_type": "code",
   "execution_count": 81,
   "metadata": {},
   "outputs": [
    {
     "name": "stdout",
     "output_type": "stream",
     "text": [
      "Tweet id: 947235015343202304\n",
      "Created at: Sat Dec 30 22:36:41 +0000 2017\n",
      "Is retweet: False\n",
      "Retweet count: 50342\n",
      "Favorite count: 195754\n",
      "Text:\n",
      "I use Social Media not because I like to, but because it is the only way to fight a VERY dishonest and unfair “press,” now often referred to as Fake News Media. Phony and non-existent “sources” are being used more often than ever. Many stories &amp; reports a pure fiction!\n"
     ]
    }
   ],
   "source": [
    "print(my_trump_tweet)"
   ]
  },
  {
   "cell_type": "markdown",
   "metadata": {},
   "source": [
    "### Introduction to `__eq__()`"
   ]
  },
  {
   "cell_type": "markdown",
   "metadata": {},
   "source": [
    "Next, we want to determine whether two Tweets are identical. For this purpose, let's create a copy of `my_trump_tweet`, called `my_trump_tweet_copy`:"
   ]
  },
  {
   "cell_type": "code",
   "execution_count": 82,
   "metadata": {},
   "outputs": [],
   "source": [
    "my_trump_tweet_copy = create_tweet_from_dict(my_trump_dict)"
   ]
  },
  {
   "cell_type": "markdown",
   "metadata": {},
   "source": [
    "You can see that the two objects are equal, when comparing the `tweet_id`."
   ]
  },
  {
   "cell_type": "code",
   "execution_count": 83,
   "metadata": {},
   "outputs": [
    {
     "name": "stdout",
     "output_type": "stream",
     "text": [
      "947235015343202304\n",
      "947235015343202304\n"
     ]
    }
   ],
   "source": [
    "print(my_trump_tweet.tweet_id)\n",
    "print(my_trump_tweet_copy.tweet_id)"
   ]
  },
  {
   "cell_type": "markdown",
   "metadata": {},
   "source": [
    "However, checking for equality returns `False`. Why is that?"
   ]
  },
  {
   "cell_type": "code",
   "execution_count": 84,
   "metadata": {},
   "outputs": [
    {
     "data": {
      "text/plain": [
       "False"
      ]
     },
     "execution_count": 84,
     "metadata": {},
     "output_type": "execute_result"
    }
   ],
   "source": [
    "my_trump_tweet == my_trump_tweet_copy"
   ]
  },
  {
   "cell_type": "markdown",
   "metadata": {},
   "source": [
    "It turns out that although the content of the objects is *equal*, they are not *identical*. This is because, they are two separate objects with different pointers in memory:"
   ]
  },
  {
   "cell_type": "code",
   "execution_count": 53,
   "metadata": {},
   "outputs": [
    {
     "data": {
      "text/plain": [
       "<__main__.Tweet at 0x2ab434aa518>"
      ]
     },
     "execution_count": 53,
     "metadata": {},
     "output_type": "execute_result"
    }
   ],
   "source": [
    "my_trump_tweet"
   ]
  },
  {
   "cell_type": "code",
   "execution_count": 54,
   "metadata": {},
   "outputs": [
    {
     "data": {
      "text/plain": [
       "<__main__.Tweet at 0x2ab4352b518>"
      ]
     },
     "execution_count": 54,
     "metadata": {},
     "output_type": "execute_result"
    }
   ],
   "source": [
    "my_trump_tweet_copy"
   ]
  },
  {
   "cell_type": "markdown",
   "metadata": {},
   "source": [
    "So how do we define equality for two objects of class `Tweet`? The simplest approach is to compare the unique `tweet_id`. If the `tweet_id` is equal, then the two objects are equal as well."
   ]
  },
  {
   "cell_type": "code",
   "execution_count": 85,
   "metadata": {},
   "outputs": [],
   "source": [
    "def equals_tweet(first_tweet, second_tweet):\n",
    "    return first_tweet.tweet_id == second_tweet.tweet_id"
   ]
  },
  {
   "cell_type": "markdown",
   "metadata": {},
   "source": [
    "We can see that our new function `equals_tweet()` returns `True`. A good result!"
   ]
  },
  {
   "cell_type": "code",
   "execution_count": 86,
   "metadata": {},
   "outputs": [
    {
     "data": {
      "text/plain": [
       "True"
      ]
     },
     "execution_count": 86,
     "metadata": {},
     "output_type": "execute_result"
    }
   ],
   "source": [
    "equals_tweet(my_trump_tweet, my_trump_tweet_copy)"
   ]
  },
  {
   "cell_type": "markdown",
   "metadata": {},
   "source": [
    "Now, we can integrate the `equals_tweet()` function into our `Tweet` class, by overriding the `__eq__()` function, which tests for equality for two object of the class. Again, the `__eq__()` comes innate with all classes in Python."
   ]
  },
  {
   "cell_type": "code",
   "execution_count": 87,
   "metadata": {},
   "outputs": [],
   "source": [
    "Tweet.__eq__ = equals_tweet"
   ]
  },
  {
   "cell_type": "markdown",
   "metadata": {},
   "source": [
    "When we check for equality now, the system returns `True`. *Isn't that great?*"
   ]
  },
  {
   "cell_type": "code",
   "execution_count": 88,
   "metadata": {},
   "outputs": [
    {
     "data": {
      "text/plain": [
       "True"
      ]
     },
     "execution_count": 88,
     "metadata": {},
     "output_type": "execute_result"
    }
   ],
   "source": [
    "my_trump_tweet == my_trump_tweet_copy"
   ]
  },
  {
   "cell_type": "markdown",
   "metadata": {},
   "source": [
    "### Introduction to `__hash__()`"
   ]
  },
  {
   "cell_type": "markdown",
   "metadata": {},
   "source": [
    "Currently, we are storing our tweets in a `list`, which comes with one big flaw: a `list` can contain duplicates of the same object. Therefore, we can add the same tweet over and over again:"
   ]
  },
  {
   "cell_type": "code",
   "execution_count": 89,
   "metadata": {},
   "outputs": [
    {
     "data": {
      "text/plain": [
       "2593"
      ]
     },
     "execution_count": 89,
     "metadata": {},
     "output_type": "execute_result"
    }
   ],
   "source": [
    "len(trump_tweet_list)"
   ]
  },
  {
   "cell_type": "code",
   "execution_count": 90,
   "metadata": {},
   "outputs": [
    {
     "data": {
      "text/plain": [
       "2594"
      ]
     },
     "execution_count": 90,
     "metadata": {},
     "output_type": "execute_result"
    }
   ],
   "source": [
    "trump_tweet_list.append(my_trump_tweet)\n",
    "len(trump_tweet_list)"
   ]
  },
  {
   "cell_type": "markdown",
   "metadata": {},
   "source": [
    "Fortunately, there is a data type perfectly tailored for our purpose: a `set`. From our textbook, we know that  \n",
    ">*Sets are unordered collections of unique and immutable objects [...]. Sets are typically used to remove\n",
    "duplicates from a list, test memberships, and perform mathematical set operations,\n",
    "including union, intersection, difference, and symmetric difference.*  \n",
    "\n",
    "To sum it up: a `set` is **unordered** and **immutable**."
   ]
  },
  {
   "cell_type": "code",
   "execution_count": 91,
   "metadata": {},
   "outputs": [],
   "source": [
    "def hash_tweet(tweet):\n",
    "    return hash(tweet.tweet_id)"
   ]
  },
  {
   "cell_type": "code",
   "execution_count": 92,
   "metadata": {},
   "outputs": [],
   "source": [
    "Tweet.__hash__ = hash_tweet"
   ]
  },
  {
   "cell_type": "code",
   "execution_count": 99,
   "metadata": {},
   "outputs": [
    {
     "data": {
      "text/plain": [
       "2593"
      ]
     },
     "execution_count": 99,
     "metadata": {},
     "output_type": "execute_result"
    }
   ],
   "source": [
    "trump_tweet_set = set(trump_tweet_list)\n",
    "len(trump_tweet_set)"
   ]
  },
  {
   "cell_type": "markdown",
   "metadata": {},
   "source": [
    "The set has already automatically removed the duplicate!"
   ]
  },
  {
   "cell_type": "markdown",
   "metadata": {},
   "source": [
    "### Exercises"
   ]
  },
  {
   "cell_type": "code",
   "execution_count": 93,
   "metadata": {},
   "outputs": [],
   "source": [
    "def calculate_popularity(tweet):\n",
    "    return tweet.retweet_count + tweet.favorite_count"
   ]
  },
  {
   "cell_type": "code",
   "execution_count": 95,
   "metadata": {},
   "outputs": [],
   "source": [
    "Tweet.calculate_popularity = calculate_popularity"
   ]
  },
  {
   "cell_type": "code",
   "execution_count": 96,
   "metadata": {},
   "outputs": [
    {
     "data": {
      "text/plain": [
       "246096"
      ]
     },
     "execution_count": 96,
     "metadata": {},
     "output_type": "execute_result"
    }
   ],
   "source": [
    "my_trump_tweet.calculate_popularity()"
   ]
  },
  {
   "cell_type": "markdown",
   "metadata": {},
   "source": [
    "**Question #1:** Find the most popular Trump tweet."
   ]
  },
  {
   "cell_type": "code",
   "execution_count": 101,
   "metadata": {},
   "outputs": [
    {
     "name": "stdout",
     "output_type": "stream",
     "text": [
      "Tweet id: 881503147168071680\n",
      "Created at: Sun Jul 02 13:21:42 +0000 2017\n",
      "Is retweet: False\n",
      "Retweet count: 369530\n",
      "Favorite count: 605098\n",
      "Text:\n",
      "#FraudNewsCNN #FNN https://t.co/WYUnHjjUjg\n"
     ]
    }
   ],
   "source": [
    "most_popular_tweet = None\n",
    "highest_popularity = -1\n",
    "\n",
    "for trump_tweet in trump_tweet_set:\n",
    "    tweet_popularity = trump_tweet.calculate_popularity()\n",
    "    if tweet_popularity > highest_popularity:\n",
    "        most_popular_tweet = trump_tweet\n",
    "        highest_popularity = tweet_popularity\n",
    "        \n",
    "print(most_popular_tweet)"
   ]
  },
  {
   "cell_type": "code",
   "execution_count": 69,
   "metadata": {},
   "outputs": [],
   "source": [
    "most_popular_tweet = None"
   ]
  },
  {
   "cell_type": "code",
   "execution_count": 70,
   "metadata": {},
   "outputs": [
    {
     "ename": "AttributeError",
     "evalue": "'NoneType' object has no attribute 'tweet_id'",
     "output_type": "error",
     "traceback": [
      "\u001b[1;31m---------------------------------------------------------------------------\u001b[0m",
      "\u001b[1;31mAttributeError\u001b[0m                            Traceback (most recent call last)",
      "\u001b[1;32m<ipython-input-70-4bf45a42e220>\u001b[0m in \u001b[0;36m<module>\u001b[1;34m()\u001b[0m\n\u001b[1;32m----> 1\u001b[1;33m \u001b[1;32massert\u001b[0m \u001b[0mmost_popular_tweet\u001b[0m\u001b[1;33m.\u001b[0m\u001b[0mtweet_id\u001b[0m \u001b[1;33m==\u001b[0m \u001b[1;36m881503147168071680\u001b[0m\u001b[1;33m,\u001b[0m \u001b[1;34m\"You have not found the most popular tweet.\"\u001b[0m\u001b[1;33m\u001b[0m\u001b[0m\n\u001b[0m",
      "\u001b[1;31mAttributeError\u001b[0m: 'NoneType' object has no attribute 'tweet_id'"
     ]
    }
   ],
   "source": [
    "assert most_popular_tweet.tweet_id == 881503147168071680, \"You have not found the most popular tweet.\""
   ]
  },
  {
   "cell_type": "markdown",
   "metadata": {},
   "source": [
    "You can also solve this in one-line, using the `key` parameter inside the `max()` function."
   ]
  },
  {
   "cell_type": "code",
   "execution_count": 72,
   "metadata": {},
   "outputs": [],
   "source": [
    "# Type your solution here\n"
   ]
  },
  {
   "cell_type": "markdown",
   "metadata": {},
   "source": [
    "## Working with Text"
   ]
  },
  {
   "cell_type": "markdown",
   "metadata": {},
   "source": [
    "Now that we have aquired a basic knowledge about Python, we can start working with the fundamentals of text analytics."
   ]
  },
  {
   "cell_type": "markdown",
   "metadata": {},
   "source": [
    "### String Indexing"
   ]
  },
  {
   "cell_type": "markdown",
   "metadata": {},
   "source": [
    "You can index strings the same way you index lists: using the `[]` operator."
   ]
  },
  {
   "cell_type": "code",
   "execution_count": 64,
   "metadata": {},
   "outputs": [
    {
     "data": {
      "text/plain": [
       "'I use Social Media not because I like to, but because it is the only way to fight a VERY dishonest and unfair “press,” now often referred to as Fake News Media. Phony and non-existent “sources” are being used more often than ever. Many stories &amp; reports a pure fiction!'"
      ]
     },
     "execution_count": 64,
     "metadata": {},
     "output_type": "execute_result"
    }
   ],
   "source": [
    "my_trump_tweet.text"
   ]
  },
  {
   "cell_type": "markdown",
   "metadata": {},
   "source": [
    "The syntax of `[a:b:c]` goes as follows:\n",
    "- `a` is the start index (default: 0)\n",
    "- `b` is the end index (defaut: length of string)\n",
    "- `c` is the stepsize (default: 1)"
   ]
  },
  {
   "cell_type": "code",
   "execution_count": 65,
   "metadata": {},
   "outputs": [
    {
     "data": {
      "text/plain": [
       "'I use Social Media'"
      ]
     },
     "execution_count": 65,
     "metadata": {},
     "output_type": "execute_result"
    }
   ],
   "source": [
    "my_trump_tweet.text[:18]"
   ]
  },
  {
   "cell_type": "code",
   "execution_count": 66,
   "metadata": {},
   "outputs": [
    {
     "data": {
      "text/plain": [
       "'I fight a VERY dishonest and unfair press'"
      ]
     },
     "execution_count": 66,
     "metadata": {},
     "output_type": "execute_result"
    }
   ],
   "source": [
    "my_trump_tweet.text[0] + my_trump_tweet.text[75:110] + my_trump_tweet.text[111:116]"
   ]
  },
  {
   "cell_type": "code",
   "execution_count": 67,
   "metadata": {},
   "outputs": [
    {
     "data": {
      "text/plain": [
       "'pure fiction'"
      ]
     },
     "execution_count": 67,
     "metadata": {},
     "output_type": "execute_result"
    }
   ],
   "source": [
    "my_trump_tweet.text[-13:-1]"
   ]
  },
  {
   "cell_type": "code",
   "execution_count": 68,
   "metadata": {},
   "outputs": [
    {
     "data": {
      "text/plain": [
       "'pr ito'"
      ]
     },
     "execution_count": 68,
     "metadata": {},
     "output_type": "execute_result"
    }
   ],
   "source": [
    "my_trump_tweet.text[-13:-1:2]"
   ]
  },
  {
   "cell_type": "markdown",
   "metadata": {},
   "source": [
    "### String Methods"
   ]
  },
  {
   "cell_type": "markdown",
   "metadata": {},
   "source": [
    "There exist many pre-implemented function to handle strings:"
   ]
  },
  {
   "cell_type": "code",
   "execution_count": 69,
   "metadata": {},
   "outputs": [],
   "source": [
    "tweet_method = my_trump_tweet.text[0] + my_trump_tweet.text[75:110] + my_trump_tweet.text[111:116]"
   ]
  },
  {
   "cell_type": "code",
   "execution_count": 70,
   "metadata": {},
   "outputs": [
    {
     "data": {
      "text/plain": [
       "'I fight a VERY dishonest and unfair press'"
      ]
     },
     "execution_count": 70,
     "metadata": {},
     "output_type": "execute_result"
    }
   ],
   "source": [
    "tweet_method"
   ]
  },
  {
   "cell_type": "code",
   "execution_count": 71,
   "metadata": {},
   "outputs": [
    {
     "data": {
      "text/plain": [
       "'i fight a very dishonest and unfair press'"
      ]
     },
     "execution_count": 71,
     "metadata": {},
     "output_type": "execute_result"
    }
   ],
   "source": [
    "tweet_method.lower()"
   ]
  },
  {
   "cell_type": "code",
   "execution_count": 72,
   "metadata": {},
   "outputs": [
    {
     "data": {
      "text/plain": [
       "'I FIGHT A VERY DISHONEST AND UNFAIR PRESS'"
      ]
     },
     "execution_count": 72,
     "metadata": {},
     "output_type": "execute_result"
    }
   ],
   "source": [
    "tweet_method.upper()"
   ]
  },
  {
   "cell_type": "code",
   "execution_count": 73,
   "metadata": {},
   "outputs": [
    {
     "data": {
      "text/plain": [
       "'I fight a VERY dishonest and unfair banana'"
      ]
     },
     "execution_count": 73,
     "metadata": {},
     "output_type": "execute_result"
    }
   ],
   "source": [
    "tweet_method.replace('press', 'banana')"
   ]
  },
  {
   "cell_type": "code",
   "execution_count": 74,
   "metadata": {},
   "outputs": [
    {
     "data": {
      "text/plain": [
       "['I', 'fight', 'a', 'VERY', 'dishonest', 'and', 'unfair', 'press']"
      ]
     },
     "execution_count": 74,
     "metadata": {},
     "output_type": "execute_result"
    }
   ],
   "source": [
    "tweet_method.split()"
   ]
  },
  {
   "cell_type": "markdown",
   "metadata": {},
   "source": [
    "### Regular Expressions"
   ]
  },
  {
   "cell_type": "code",
   "execution_count": 76,
   "metadata": {},
   "outputs": [],
   "source": [
    "import re"
   ]
  },
  {
   "cell_type": "code",
   "execution_count": 79,
   "metadata": {},
   "outputs": [
    {
     "data": {
      "text/plain": [
       "<_sre.SRE_Match object; span=(149, 153), match='News'>"
      ]
     },
     "execution_count": 79,
     "metadata": {},
     "output_type": "execute_result"
    }
   ],
   "source": [
    "re.search(\"News\", my_trump_tweet.text)"
   ]
  },
  {
   "cell_type": "markdown",
   "metadata": {},
   "source": [
    "### Excercises"
   ]
  },
  {
   "cell_type": "code",
   "execution_count": 76,
   "metadata": {},
   "outputs": [
    {
     "name": "stdout",
     "output_type": "stream",
     "text": [
      "935 Trump tweets end with '!'.\n"
     ]
    }
   ],
   "source": [
    "# How many Trump tweets end with \"!\"?\n",
    "exclamation_point_counter = 0\n",
    "\n",
    "for trump_tweet in trump_tweet_set:\n",
    "    if trump_tweet.text[-1] == \"!\":\n",
    "        exclamation_point_counter += 1\n",
    "        \n",
    "print(\"{} Trump tweets end with '!'.\".format(exclamation_point_counter))"
   ]
  },
  {
   "cell_type": "code",
   "execution_count": 108,
   "metadata": {},
   "outputs": [
    {
     "ename": "NameError",
     "evalue": "name 'exclamation_point_counter' is not defined",
     "output_type": "error",
     "traceback": [
      "\u001b[1;31m---------------------------------------------------------------------------\u001b[0m",
      "\u001b[1;31mNameError\u001b[0m                                 Traceback (most recent call last)",
      "\u001b[1;32m<ipython-input-108-e5acc6be4916>\u001b[0m in \u001b[0;36m<module>\u001b[1;34m()\u001b[0m\n\u001b[1;32m----> 1\u001b[1;33m \u001b[1;32massert\u001b[0m \u001b[0mexclamation_point_counter\u001b[0m \u001b[1;33m==\u001b[0m \u001b[1;36m935\u001b[0m\u001b[1;33m,\u001b[0m \u001b[1;34m\"The solution is 935 but found {}\"\u001b[0m\u001b[1;33m.\u001b[0m\u001b[0mformat\u001b[0m\u001b[1;33m(\u001b[0m\u001b[0mexclamation_point_counter\u001b[0m\u001b[1;33m)\u001b[0m\u001b[1;33m\u001b[0m\u001b[0m\n\u001b[0m",
      "\u001b[1;31mNameError\u001b[0m: name 'exclamation_point_counter' is not defined"
     ]
    }
   ],
   "source": [
    "assert exclamation_point_counter == 935, \"The solution is 935 but you found {}\".format(exclamation_point_counter)"
   ]
  }
 ],
 "metadata": {
  "kernelspec": {
   "display_name": "Python 3",
   "language": "python",
   "name": "python3"
  },
  "language_info": {
   "codemirror_mode": {
    "name": "ipython",
    "version": 3
   },
   "file_extension": ".py",
   "mimetype": "text/x-python",
   "name": "python",
   "nbconvert_exporter": "python",
   "pygments_lexer": "ipython3",
   "version": "3.6.4"
  }
 },
 "nbformat": 4,
 "nbformat_minor": 1
}
